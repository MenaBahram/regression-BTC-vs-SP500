{
 "metadata": {
  "language_info": {
   "codemirror_mode": {
    "name": "ipython",
    "version": 3
   },
   "file_extension": ".py",
   "mimetype": "text/x-python",
   "name": "python",
   "nbconvert_exporter": "python",
   "pygments_lexer": "ipython3",
   "version": "3.7.6-final"
  },
  "orig_nbformat": 2,
  "kernelspec": {
   "name": "python3",
   "display_name": "Python 3"
  }
 },
 "nbformat": 4,
 "nbformat_minor": 2,
 "cells": [
  {
   "cell_type": "code",
   "execution_count": 4,
   "metadata": {
    "tags": []
   },
   "outputs": [],
   "source": [
    "import pandas as pd\n",
    "import pandas_datareader as data \n",
    "import matplotlib.pyplot as plt\n",
    "import numpy as np\n",
    "import statsmodels.api as sm\n",
    "import math\n",
    "import datetime\n",
    "\n",
    "from sklearn.model_selection import train_test_split\n",
    "from sklearn.linear_model import LinearRegression\n",
    "from sklearn.metrics import mean_squared_error, r2_score, mean_absolute_error\n",
    "\n",
    "from scipy import stats\n",
    "from scipy.stats import kurtosis, skew\n",
    "%matplotlib inline\n"
   ]
  },
  {
   "cell_type": "code",
   "execution_count": null,
   "metadata": {
    "tags": []
   },
   "outputs": [],
   "source": [
    "start = '2020-01-01'\n",
    "end = datetime.date.today()\n",
    "\n",
    "dfeth = data.DataReader('ETH-USD', data_source='yahoo', start= start, end= end)\n",
    "print(dfeth['Adj Close'])\n",
    "\n",
    "dfbtc = data.DataReader(\"BTC-USD\", data_source='yahoo', start= start, end= end)\n",
    "print(dfbtc['Adj Close'])"
   ]
  },
  {
   "cell_type": "code",
   "execution_count": null,
   "metadata": {},
   "outputs": [],
   "source": [
    "plt.plot(dfeth[\"Adj Close\"], dfbtc[\"Adj Close\"], 'o', color = 'green', label = 'Daily Price')\n",
    "\n",
    "plt.title('ETH vs BTC')\n",
    "plt.xlabel('ETH')\n",
    "plt.ylabel('BTC')\n",
    "plt.legend()\n",
    "plt.show()"
   ]
  },
  {
   "cell_type": "code",
   "execution_count": null,
   "metadata": {
    "tags": []
   },
   "outputs": [],
   "source": [
    "df = pd.DataFrame({\"Price ETH\": dfeth[\"Adj Close\"],  \"Price BTC\": dfbtc[\"Adj Close\"]})\n",
    "corr = df.corr()\n",
    "print(corr)"
   ]
  },
  {
   "cell_type": "code",
   "execution_count": 50,
   "metadata": {},
   "outputs": [
    {
     "output_type": "execute_result",
     "data": {
      "text/plain": "        Price ETH     Price BTC\ncount  226.000000    226.000000\nmean   215.155934   8801.788155\nstd     63.988993   1435.994940\nmin    110.605873   4970.788086\n25%    169.967857   7914.483765\n50%    213.221344   9155.216309\n75%    240.059761   9612.186768\nmax    428.741791  11878.111328",
      "text/html": "<div>\n<style scoped>\n    .dataframe tbody tr th:only-of-type {\n        vertical-align: middle;\n    }\n\n    .dataframe tbody tr th {\n        vertical-align: top;\n    }\n\n    .dataframe thead th {\n        text-align: right;\n    }\n</style>\n<table border=\"1\" class=\"dataframe\">\n  <thead>\n    <tr style=\"text-align: right;\">\n      <th></th>\n      <th>Price ETH</th>\n      <th>Price BTC</th>\n    </tr>\n  </thead>\n  <tbody>\n    <tr>\n      <th>count</th>\n      <td>226.000000</td>\n      <td>226.000000</td>\n    </tr>\n    <tr>\n      <th>mean</th>\n      <td>215.155934</td>\n      <td>8801.788155</td>\n    </tr>\n    <tr>\n      <th>std</th>\n      <td>63.988993</td>\n      <td>1435.994940</td>\n    </tr>\n    <tr>\n      <th>min</th>\n      <td>110.605873</td>\n      <td>4970.788086</td>\n    </tr>\n    <tr>\n      <th>25%</th>\n      <td>169.967857</td>\n      <td>7914.483765</td>\n    </tr>\n    <tr>\n      <th>50%</th>\n      <td>213.221344</td>\n      <td>9155.216309</td>\n    </tr>\n    <tr>\n      <th>75%</th>\n      <td>240.059761</td>\n      <td>9612.186768</td>\n    </tr>\n    <tr>\n      <th>max</th>\n      <td>428.741791</td>\n      <td>11878.111328</td>\n    </tr>\n  </tbody>\n</table>\n</div>"
     },
     "metadata": {},
     "execution_count": 50
    }
   ],
   "source": [
    "# statistical summary\n",
    "df.describe()"
   ]
  },
  {
   "cell_type": "code",
   "execution_count": null,
   "metadata": {},
   "outputs": [],
   "source": [
    "# Building the model\n",
    "\n",
    "Y = dfeth.drop(axis = 1)\n",
    "X = dbtc.drop(axis = 1)\n",
    "\n",
    "\n",
    "X_train, X_test, y_train, y_test =train_test_split()\n"
   ]
  }
 ]
}